{
  "nbformat": 4,
  "nbformat_minor": 0,
  "metadata": {
    "colab": {
      "provenance": [],
      "toc_visible": true,
      "include_colab_link": true
    },
    "kernelspec": {
      "name": "python3",
      "display_name": "Python 3"
    },
    "language_info": {
      "name": "python"
    }
  },
  "cells": [
    {
      "cell_type": "markdown",
      "metadata": {
        "id": "view-in-github",
        "colab_type": "text"
      },
      "source": [
        "<a href=\"https://colab.research.google.com/github/NaufalFikriansyah/Basic-Pemrograman-Fungsioanal-Python/blob/main/Modul_6_Pem_Fungsional2022.ipynb\" target=\"_parent\"><img src=\"https://colab.research.google.com/assets/colab-badge.svg\" alt=\"Open In Colab\"/></a>"
      ]
    },
    {
      "cell_type": "markdown",
      "metadata": {
        "id": "qNOZUdmJveuH"
      },
      "source": [
        "## PERSIAPAN MATERI"
      ]
    },
    {
      "cell_type": "markdown",
      "metadata": {
        "id": "HYR68g3svi5n"
      },
      "source": [
        "*   Kegiatan pada modul ini merupakan perpaduan materi yang terdapat pada modul 1-4."
      ]
    },
    {
      "cell_type": "markdown",
      "metadata": {
        "id": "yvDiAOFqwOFv"
      },
      "source": [
        "## TUJUAN"
      ]
    },
    {
      "cell_type": "markdown",
      "metadata": {
        "id": "O6ITWqqVwQx2"
      },
      "source": [
        "1. Mahasiswa mampu mengimplementasikan pemrograman fungsional pada studi kasus logika pemrograman.\n",
        "2. Mahasiswa mampu mengimplementasikan pemrograman fungsional pada masalah gamification sederhana."
      ]
    },
    {
      "cell_type": "markdown",
      "metadata": {
        "id": "glzRqaK0wg1-"
      },
      "source": [
        "## TARGET MODUL"
      ]
    },
    {
      "cell_type": "markdown",
      "metadata": {
        "id": "YpMKVisswoJ2"
      },
      "source": [
        "Mahasiswa mampu mengimplementasikan pemrograman fungsional dalam penyelesaian masalah gamification sederhana."
      ]
    },
    {
      "cell_type": "markdown",
      "metadata": {
        "id": "W2Q1E2NWw17G"
      },
      "source": [
        "## PERSIAPAN SOFTWARE/APLIKASI"
      ]
    },
    {
      "cell_type": "markdown",
      "metadata": {
        "id": "UG9NygJ5w4m3"
      },
      "source": [
        "• PC / Laptop\n",
        "\n",
        "• Google Collab\n",
        "\n",
        "• Pycharm"
      ]
    },
    {
      "cell_type": "markdown",
      "source": [
        "#Fungsi Rekursi"
      ],
      "metadata": {
        "id": "tzFj4sLx7NpE"
      }
    },
    {
      "cell_type": "markdown",
      "source": [
        "Banyak upaya untuk membuat sebuah kode menjadi fungsional, diantaranya adalah mengurangi penggunaan iterasi dan beralih pada fungsi rekursi, menghapus redudancy kode serta memaksimalkan penggunaan berbagai macam metode yang sudah kita pelajari di modul modul sebelumnya."
      ],
      "metadata": {
        "id": "-vUmlOltT_zK"
      }
    },
    {
      "cell_type": "markdown",
      "source": [
        "Tujuan dari pemrograman fungsional adalah untuk meringkas kode seefektif dan seefisien mungkin. Pemrograman fungsional melakukan pemanggilan fungsi yang dapat memberikan hasil yang sama secara berturut-turut berdasarkan teori fungsi matematika."
      ],
      "metadata": {
        "id": "N8K6PBW3SAGE"
      }
    },
    {
      "cell_type": "markdown",
      "source": [
        "Recursion merupakan elemen yang sangat penting dalam pemrograman fungsional. Dasar dari rekursif adalah self-reference, yaitu fungsi yang memanggil dirinya sendiri. Berbeda dengan loop for dan while, rekursi bukanlah iterasi. Coba perhatikan contoh berikut!"
      ],
      "metadata": {
        "id": "ItBH7iy744yl"
      }
    },
    {
      "cell_type": "code",
      "source": [
        "def faktorial(x):\n",
        "     return x * faktorial(x-1) #memanggil fungsi faktorial untuk diulangi dengan x-1\n",
        "\n",
        "print(faktorial(4))\n",
        "#RecursionError: maximum recursion depth exceeded"
      ],
      "metadata": {
        "colab": {
          "base_uri": "https://localhost:8080/",
          "height": 354
        },
        "id": "h9HYqsah6Igz",
        "outputId": "a3eb022d-0e4b-44bf-8647-3a80962814d7"
      },
      "execution_count": null,
      "outputs": [
        {
          "output_type": "error",
          "ename": "RecursionError",
          "evalue": "ignored",
          "traceback": [
            "\u001b[0;31m---------------------------------------------------------------------------\u001b[0m",
            "\u001b[0;31mRecursionError\u001b[0m                            Traceback (most recent call last)",
            "\u001b[0;32m<ipython-input-14-23b0bc055fcc>\u001b[0m in \u001b[0;36m<module>\u001b[0;34m()\u001b[0m\n\u001b[1;32m      1\u001b[0m \u001b[0;32mdef\u001b[0m \u001b[0mfaktorial\u001b[0m\u001b[0;34m(\u001b[0m\u001b[0mx\u001b[0m\u001b[0;34m)\u001b[0m\u001b[0;34m:\u001b[0m\u001b[0;34m\u001b[0m\u001b[0;34m\u001b[0m\u001b[0m\n\u001b[1;32m      2\u001b[0m      \u001b[0;32mreturn\u001b[0m \u001b[0mx\u001b[0m \u001b[0;34m*\u001b[0m \u001b[0mfaktorial\u001b[0m\u001b[0;34m(\u001b[0m\u001b[0mx\u001b[0m\u001b[0;34m-\u001b[0m\u001b[0;36m1\u001b[0m\u001b[0;34m)\u001b[0m \u001b[0;31m#memanggil fungsi faktorial untuk diulangi dengan x-1\u001b[0m\u001b[0;34m\u001b[0m\u001b[0;34m\u001b[0m\u001b[0m\n\u001b[0;32m----> 3\u001b[0;31m \u001b[0mprint\u001b[0m\u001b[0;34m(\u001b[0m\u001b[0mfaktorial\u001b[0m\u001b[0;34m(\u001b[0m\u001b[0;36m4\u001b[0m\u001b[0;34m)\u001b[0m\u001b[0;34m)\u001b[0m\u001b[0;34m\u001b[0m\u001b[0;34m\u001b[0m\u001b[0m\n\u001b[0m",
            "\u001b[0;32m<ipython-input-14-23b0bc055fcc>\u001b[0m in \u001b[0;36mfaktorial\u001b[0;34m(x)\u001b[0m\n\u001b[1;32m      1\u001b[0m \u001b[0;32mdef\u001b[0m \u001b[0mfaktorial\u001b[0m\u001b[0;34m(\u001b[0m\u001b[0mx\u001b[0m\u001b[0;34m)\u001b[0m\u001b[0;34m:\u001b[0m\u001b[0;34m\u001b[0m\u001b[0;34m\u001b[0m\u001b[0m\n\u001b[0;32m----> 2\u001b[0;31m      \u001b[0;32mreturn\u001b[0m \u001b[0mx\u001b[0m \u001b[0;34m*\u001b[0m \u001b[0mfaktorial\u001b[0m\u001b[0;34m(\u001b[0m\u001b[0mx\u001b[0m\u001b[0;34m-\u001b[0m\u001b[0;36m1\u001b[0m\u001b[0;34m)\u001b[0m \u001b[0;31m#memanggil fungsi faktorial untuk diulangi dengan x-1\u001b[0m\u001b[0;34m\u001b[0m\u001b[0;34m\u001b[0m\u001b[0m\n\u001b[0m\u001b[1;32m      3\u001b[0m \u001b[0mprint\u001b[0m\u001b[0;34m(\u001b[0m\u001b[0mfaktorial\u001b[0m\u001b[0;34m(\u001b[0m\u001b[0;36m4\u001b[0m\u001b[0;34m)\u001b[0m\u001b[0;34m)\u001b[0m\u001b[0;34m\u001b[0m\u001b[0;34m\u001b[0m\u001b[0m\n",
            "... last 1 frames repeated, from the frame below ...\n",
            "\u001b[0;32m<ipython-input-14-23b0bc055fcc>\u001b[0m in \u001b[0;36mfaktorial\u001b[0;34m(x)\u001b[0m\n\u001b[1;32m      1\u001b[0m \u001b[0;32mdef\u001b[0m \u001b[0mfaktorial\u001b[0m\u001b[0;34m(\u001b[0m\u001b[0mx\u001b[0m\u001b[0;34m)\u001b[0m\u001b[0;34m:\u001b[0m\u001b[0;34m\u001b[0m\u001b[0;34m\u001b[0m\u001b[0m\n\u001b[0;32m----> 2\u001b[0;31m      \u001b[0;32mreturn\u001b[0m \u001b[0mx\u001b[0m \u001b[0;34m*\u001b[0m \u001b[0mfaktorial\u001b[0m\u001b[0;34m(\u001b[0m\u001b[0mx\u001b[0m\u001b[0;34m-\u001b[0m\u001b[0;36m1\u001b[0m\u001b[0;34m)\u001b[0m \u001b[0;31m#memanggil fungsi faktorial untuk diulangi dengan x-1\u001b[0m\u001b[0;34m\u001b[0m\u001b[0;34m\u001b[0m\u001b[0m\n\u001b[0m\u001b[1;32m      3\u001b[0m \u001b[0mprint\u001b[0m\u001b[0;34m(\u001b[0m\u001b[0mfaktorial\u001b[0m\u001b[0;34m(\u001b[0m\u001b[0;36m4\u001b[0m\u001b[0;34m)\u001b[0m\u001b[0;34m)\u001b[0m\u001b[0;34m\u001b[0m\u001b[0;34m\u001b[0m\u001b[0m\n",
            "\u001b[0;31mRecursionError\u001b[0m: maximum recursion depth exceeded"
          ]
        }
      ]
    },
    {
      "cell_type": "markdown",
      "source": [
        "Yahh error T.T\n",
        "\n",
        "Iya lah error, kan belum dikasih base case, hal ini menyebabkan loop tak terbatas seperti perulangan \"while\" berikut ini(coba kalian run): "
      ],
      "metadata": {
        "id": "KRLO9dxdEdbG"
      }
    },
    {
      "cell_type": "code",
      "source": [
        "def faktorialWhile(n):\n",
        "    result = 1\n",
        "    current_number = 0\n",
        "    while (True):\n",
        "        result *= n-current_number\n",
        "        current_number += 1\n",
        "    return result\n",
        "\n",
        "print(faktorialWhile(4))"
      ],
      "metadata": {
        "id": "EBO68DMkQD8v"
      },
      "execution_count": null,
      "outputs": []
    },
    {
      "cell_type": "markdown",
      "source": [
        "Nungguin lama kan ya, dan hasilnya ga keluar-keluar, karena dia lagi looping forever. Dan program itu ga akan berhenti kalau ga kalian stop, dan lama kelamaan dia akan menghabiskan memory kalian, bahkan bisa bikin hang. Itulah bedanya iterasi dengan rekursif. Iterasi akan terus berjalan, sedangkan rekursif tidak akan dijalankan jika tidak ditemukan base case yang dapat menghentikan looping self-reference nya.\n",
        "\n",
        "T-tapi, base case itu apa?\n",
        "\n",
        "gini gini, kasus kita kan faktorial nih, jadi\n",
        "4! = 4 x 3 x 2 x 1 = 120\n",
        "\n",
        "nah kalau dalam kasus rekursi akan jadi begini\n",
        "\n",
        "n! = n x (n - 1)!\n",
        "\n",
        "sehingga\n",
        "\n",
        "4! = 4 x 3!\n",
        "\n",
        "3! = 3 x 2!\n",
        "\n",
        "2! = 2 x 1!\n",
        "\n",
        "1! = 1 Nahh ini nih yang disebut base case. Coba perhatikan contoh berikut untuk implementasinya:"
      ],
      "metadata": {
        "id": "G8wPDOoF7UEo"
      }
    },
    {
      "cell_type": "code",
      "source": [
        "def faktorial(x):\n",
        "     if x == 1: #base case\n",
        "         return 1\n",
        "     else:\n",
        "         return x * faktorial(x-1) #operasi perkalian dengan incremental rekursi\n",
        "         \n",
        "print(faktorial(4))"
      ],
      "metadata": {
        "colab": {
          "base_uri": "https://localhost:8080/"
        },
        "id": "UigM4uja59yF",
        "outputId": "f33343d7-6835-41b8-9ba2-b18174415ebb"
      },
      "execution_count": null,
      "outputs": [
        {
          "output_type": "stream",
          "name": "stdout",
          "text": [
            "24\n"
          ]
        }
      ]
    },
    {
      "cell_type": "markdown",
      "source": [
        "Okee, udah mashok khan? Sekarang coba bandingkan kode rekursif perhitungan faktorial tersebut dengan kode berikut!"
      ],
      "metadata": {
        "id": "LwjDhVgP-PLI"
      }
    },
    {
      "cell_type": "code",
      "source": [
        "def faktorialWhile(n):\n",
        "    result = 1   #base case\n",
        "    while (n > 0):\n",
        "        result *= n #operasi perkalian\n",
        "        n -= 1  #increment\n",
        "    return result\n",
        "\n",
        "faktorialWhile(4)"
      ],
      "metadata": {
        "colab": {
          "base_uri": "https://localhost:8080/"
        },
        "id": "G-sJySTJ_PCb",
        "outputId": "184fa92a-9313-4da8-92c5-e13c2f20d111"
      },
      "execution_count": null,
      "outputs": [
        {
          "output_type": "execute_result",
          "data": {
            "text/plain": [
              "24"
            ]
          },
          "metadata": {},
          "execution_count": 5
        }
      ]
    },
    {
      "cell_type": "markdown",
      "source": [
        "Sama sama menghitung nilai fakorial kok. Tapi coba perhatikan efisiensi dari kode tersebut, agak boros ya kalau pake iterasi :("
      ],
      "metadata": {
        "id": "0aXQHLExQTd0"
      }
    },
    {
      "cell_type": "markdown",
      "source": [
        "###Loop vs Rekursi"
      ],
      "metadata": {
        "id": "paud-5kjQxUe"
      }
    },
    {
      "cell_type": "markdown",
      "source": [
        "\n",
        "\n",
        "*   Rekursi tidak membutuhkan kondisi yang harus dipenuhi sebelum dapat dijalankan.\n",
        "*   Rekursi memiliki batasan untuk eksekusinya. Ini terutama karena fungsi disimpan di Stack Memory, yang memiliki ukuran maksimum. Fungsi rekursif akan terus memanggil dirinya sendiri, mendorong nilai dan instance baru dari fungsi ke stack, yang pada akhirnya dapat menyebabkan kesalahan. Jadi hati hati ya pakenya \n",
        "*   Sebagai perbandingan, loop disimpan dalam memori dinamis, di mana variabel dapat dibuat tanpa batas\n",
        "*   Eksekusi fungsi rekursif relatif lebih lambat daripada loop\n",
        "*   Rekursi umumnya lebih mudah dibaca daripada loop\n",
        "*   Rekursi lebih mahal, dari segi komputasi, dibandingkan dengan loop, tetapi dapat dipercepat dengan memoization\n",
        "\n",
        "\n",
        "\n",
        "\n",
        "\n"
      ],
      "metadata": {
        "id": "ok0Pa8M_Q1Kh"
      }
    },
    {
      "cell_type": "markdown",
      "source": [
        "Berikut merupakan contoh lain dari penggunaan rekursi vs loop for"
      ],
      "metadata": {
        "id": "9yMrAMEYHnsv"
      }
    },
    {
      "cell_type": "code",
      "source": [
        "def pangkatFor(x,y):\n",
        "  result = 1\n",
        "  for n in range(y):\n",
        "    result = result*x\n",
        "  return result\n",
        "  \n",
        "x = int(input(\"Masukan Nilai X : \"))\n",
        "y = int(input(\"Masukan Nilai Y : \"))\n",
        "\n",
        "print(\"%d dipangkatkan %d = %d\" % (x,y,pangkatFor(x,y)))"
      ],
      "metadata": {
        "colab": {
          "base_uri": "https://localhost:8080/"
        },
        "id": "rtYfb6aRAd4t",
        "outputId": "d498379b-9ee6-4edd-d6fc-dd57e4629e23"
      },
      "execution_count": null,
      "outputs": [
        {
          "output_type": "stream",
          "name": "stdout",
          "text": [
            "Masukan Nilai X : 3\n",
            "Masukan Nilai Y : 2\n",
            "3 dipangkatkan 2 = 9\n"
          ]
        }
      ]
    },
    {
      "cell_type": "code",
      "source": [
        "def pangkatRecursion(x,y):\n",
        "   if y == 0:\n",
        "      return 1\n",
        "   else:\n",
        "      return x * pangkatRecursion(x,y-1) #rekursinya di sinii, \n",
        "      #fungsi pangkatRecursion dipanggil oleh fungsinya sendiri dengan parameter(x,y-1)\n",
        "      #Mengembalikan nilai x dikali dengan x sebanyak n hingga nilai y sama dengan 0\n",
        "      \n",
        "x = int(input(\"Masukan Nilai X : \"))\n",
        "y = int(input(\"Masukan Nilai Y : \"))\n",
        "print(\"%d dipangkatkan %d = %d\" % (x,y,pangkatRecursion(x,y)))"
      ],
      "metadata": {
        "colab": {
          "base_uri": "https://localhost:8080/"
        },
        "id": "hHuDSONKAc1x",
        "outputId": "8b87d4e8-94d0-4eaa-f0f7-8b1015c45473"
      },
      "execution_count": null,
      "outputs": [
        {
          "output_type": "stream",
          "name": "stdout",
          "text": [
            "Masukan Nilai X : 3\n",
            "Masukan Nilai Y : 2\n",
            "3 dipangkatkan 2 = 9\n"
          ]
        }
      ]
    },
    {
      "cell_type": "markdown",
      "source": [
        "#Mengeliminasi Redudancy Kode"
      ],
      "metadata": {
        "id": "96FlSSVyUpyP"
      }
    },
    {
      "cell_type": "markdown",
      "source": [
        "Dalam menulis kode terutama dalam pemrograman fungsional usahakan seefektif dan seefisien mungkin, oleh karena itu hindari redudancy kode atau kode yang dituliskan secara berulang. Perhatikan contoh berikut!"
      ],
      "metadata": {
        "id": "1zABuohTZB8Z"
      }
    },
    {
      "cell_type": "code",
      "source": [
        "#fungsi Hitung BMI dari data list yang berisikan berat badan dalam kg dan tinggi badan dalam meter\n",
        "def bmi_calc(data):\n",
        "    weight_kg = data[0]\n",
        "    height_m = data[1]\n",
        "    bmi = int(weight_kg / height_m**2)\n",
        "    return bmi\n",
        "\n",
        "# Subject data = [weight_kg, height_m]\n",
        "subject1 = [80, 1.62]\n",
        "subject2 = [69, 1.53]\n",
        "subject3 = [80, 1.66]\n",
        "subject4 = [80, 1.79]\n",
        "subject5 = [72, 1.60]\n",
        "\n",
        "bmi_subject1 = bmi_calc(subject1)\n",
        "print(\"bmi {} = {}\".format('subject1', bmi_subject1))\n",
        "\n",
        "bmi_subject2 = bmi_calc(subject2)\n",
        "print(\"bmi {} = {}\".format('subject2', bmi_subject2))\n",
        "\n",
        "bmi_subject3 = bmi_calc(subject3)\n",
        "print(\"bmi {} = {}\".format('subject3', bmi_subject3))\n",
        "\n",
        "bmi_subject4 = bmi_calc(subject4)\n",
        "print(\"bmi {} = {}\".format('subject4', bmi_subject4))\n",
        "\n",
        "bmi_subject5 = bmi_calc(subject5)\n",
        "print(\"bmi {} = {}\".format('subject5', bmi_subject5))"
      ],
      "metadata": {
        "id": "JX3BkNwGttAR",
        "colab": {
          "base_uri": "https://localhost:8080/"
        },
        "outputId": "a59bbd0f-7ddb-4bea-d121-fdd8bfd426a0"
      },
      "execution_count": null,
      "outputs": [
        {
          "output_type": "stream",
          "name": "stdout",
          "text": [
            "bmi subject1 = 30\n",
            "bmi subject2 = 29\n",
            "bmi subject3 = 29\n",
            "bmi subject4 = 24\n",
            "bmi subject5 = 28\n"
          ]
        }
      ]
    },
    {
      "cell_type": "markdown",
      "source": [
        "huekk boross. Kita banyak mengulang kode statement yang sama persis, cuma beda isian variabel saja. Harusnya bisa disederhanakan lagi. Masih ingat caranya? cara ini sudah pernah dibahas di modul 3 dan 5 lho... Yap, statement yang sama cukup kita tulis satu kali dalam fungsi, dan statement yang berbeda akan kita jadikan parameter. Seperti ini implementasinya..."
      ],
      "metadata": {
        "id": "hD8xQRp4FG4r"
      }
    },
    {
      "cell_type": "code",
      "source": [
        "#fungsi Hitung BMI dari data list yang berisikan berat badan dalam kg dan tinggi badan dalam meter\n",
        "def bmi_calc(data):\n",
        "    return int(data[0] / data[1] ** 2)\n",
        "\n",
        "#buat fungsi untuk mencetak\n",
        "def cetak_bmi(sub_num, bmi): \n",
        "    print(\"bmi subject{} = {}\".format(sub_num, bmi))\n",
        "\n",
        "# Subject data = [weight_kg, height_m]\n",
        "subject_1 = [80, 1.62]\n",
        "subject_2 = [69, 1.53]\n",
        "subject_3 = [80, 1.66]\n",
        "subject_4 = [80, 1.79]\n",
        "subject_5 = [72, 1.60]\n",
        "\n",
        "cetak_bmi(1, bmi_calc(subject_1))\n",
        "cetak_bmi(2, bmi_calc(subject_2))\n",
        "cetak_bmi(3, bmi_calc(subject_3))\n",
        "cetak_bmi(4, bmi_calc(subject_4))\n",
        "cetak_bmi(5, bmi_calc(subject_5))"
      ],
      "metadata": {
        "colab": {
          "base_uri": "https://localhost:8080/"
        },
        "id": "w-Hg25c-CIcQ",
        "outputId": "258669ff-34c6-44da-93ba-9d3692932a50"
      },
      "execution_count": null,
      "outputs": [
        {
          "output_type": "stream",
          "name": "stdout",
          "text": [
            "bmi subject1 = 30\n",
            "bmi subject2 = 29\n",
            "bmi subject3 = 29\n",
            "bmi subject4 = 24\n",
            "bmi subject5 = 28\n"
          ]
        }
      ]
    },
    {
      "cell_type": "markdown",
      "source": [
        "Hikk tapi masih ga enak dipandang ya, masih ada perulangan kode statement yang sama... beda di angka subjek nya aja, apa masih bisa disederhankan lagi? mari kita coba perbaiki sekali lagi bagian yang berulangnya..."
      ],
      "metadata": {
        "id": "8NSVSu5QFfzl"
      }
    },
    {
      "cell_type": "code",
      "source": [
        "# 1. kita satukan data subjek dengan memanfaatkan koleksi data (tipe sequence)\n",
        "# Subject data = [weight_kg, height_m]\n",
        "subjects =[[80, 1.62], # subject1\n",
        "           [69, 1.53], # subject2\n",
        "           [80, 1.66], # subject3\n",
        "           [80, 1.79], # subject4\n",
        "           [72, 1.60]] # subject5\n",
        "\n",
        "# 2. manfaatkan looping for untuk meng-iterasi angka subjek \n",
        "# sehingga sifatnya berubah menjadi dinamis apabila ada data subject baru\n",
        "for i in range(len(subjects)):\n",
        "    cetak_bmi(i+1, bmi_calc(subjects[i]))"
      ],
      "metadata": {
        "colab": {
          "base_uri": "https://localhost:8080/"
        },
        "id": "0xRT3qg5wajw",
        "outputId": "62462765-b81c-4238-f6ab-c1cae4cea866"
      },
      "execution_count": null,
      "outputs": [
        {
          "output_type": "stream",
          "name": "stdout",
          "text": [
            "bmi subject1 = 30\n",
            "bmi subject2 = 29\n",
            "bmi subject3 = 29\n",
            "bmi subject4 = 24\n",
            "bmi subject5 = 28\n"
          ]
        }
      ]
    },
    {
      "cell_type": "markdown",
      "source": [
        "Ok, sampai sini sudah paham kan yang dimaksud eliminasi redudancy code?\n",
        "\n",
        "eitt, tapi belum sampe situ.. kode yang barusan masih belum fungsional. Kenapa? Karena dalam pemrograman fungsional, iterasi pada data koleksi tidak lagi menggunakan perulangan for, melainkan menggunakan fungsi seperti map(), filter(), rekursi, reduce(), dan lainnya. Lalu bagaimana merubah looping for kita itu menjadi menggunakan fungsi?\n",
        "\n",
        "Mari kita coba buat menjadi kode yang fungsional, perhatikan kode berikut :D"
      ],
      "metadata": {
        "id": "Okh-NH7AGarl"
      }
    },
    {
      "cell_type": "code",
      "source": [
        "# 1. Kita gunakan fungsi map untuk memetakan data berat dan tinggi subjects menjadi data bmi\n",
        "bmi_subjects = map(lambda subject : bmi_calc(subject), subjects)\n",
        "list_bmi = list(bmi_subjects) #casting data map menjadi list\n",
        "print(list_bmi)               #agar bisa di print\n",
        "\n",
        "# 2. Kita modifikasi fungsi cetak untuk mencetak data list bmi\n",
        "def cetak_bmi(listBMI):\n",
        "   for i in range(len(listBMI)):\n",
        "    print(\"bmi subject{} = {}\".format(i+1, listBMI[i]))\n",
        "\n",
        "cetak_bmi(list_bmi)"
      ],
      "metadata": {
        "colab": {
          "base_uri": "https://localhost:8080/"
        },
        "id": "MkkH2Ix3OYul",
        "outputId": "51a61002-84b2-45e5-fbf1-972d10b89708"
      },
      "execution_count": null,
      "outputs": [
        {
          "output_type": "stream",
          "name": "stdout",
          "text": [
            "[30, 29, 29, 24, 28]\n",
            "[]\n",
            "bmi subject1 = 30\n",
            "bmi subject2 = 29\n",
            "bmi subject3 = 29\n",
            "bmi subject4 = 24\n",
            "bmi subject5 = 28\n"
          ]
        }
      ]
    },
    {
      "cell_type": "markdown",
      "source": [
        "Eeh, kok masih ada looping for nya. Kita ganti pakai rekursif yuk..."
      ],
      "metadata": {
        "id": "hkjL3Vs-YtFL"
      }
    },
    {
      "cell_type": "code",
      "source": [
        "#fungsi rekursif untuk mencetak dataList dengan index i\n",
        "def cetak_bmi_rekursi(dataList, i):\n",
        "  lenList = len(dataList)\n",
        "  if i == lenList:  # base case saat index i mencapai dataList terakhir (berdasarkan lenList)\n",
        "    return # return None --> tidak mencetak apapun\n",
        "  else:\n",
        "    print(\"bmi subject{} = {}\".format(i+1, dataList[i])) #kode yang sama persis seperti dalam looping for\n",
        "    return cetak_bmi_rekursi(dataList, i+1) #rekursi untuk dataList ke-i+1 \n",
        "\n",
        "cetak_bmi_rekursi(list_bmi, 0)"
      ],
      "metadata": {
        "colab": {
          "base_uri": "https://localhost:8080/"
        },
        "id": "Quuvu4qnIVnv",
        "outputId": "dbd47771-b624-4281-f58b-fe9661eb615b"
      },
      "execution_count": null,
      "outputs": [
        {
          "output_type": "stream",
          "name": "stdout",
          "text": [
            "bmi subject1 = 30\n",
            "bmi subject2 = 29\n",
            "bmi subject3 = 29\n",
            "bmi subject4 = 24\n",
            "bmi subject5 = 28\n"
          ]
        }
      ]
    },
    {
      "cell_type": "markdown",
      "source": [
        "Jadi lebih banyak kode yah, tapi itulah fungsi yang sesuai dengan paradigma fungsional. Dimana fungsi adalah suatu expresi yang akan mengembalikan (return) nilai. Sedangkan fungsi `cetak_bmi()` sebelumnya itu hanya sebuah prosedur untuk mencetak dengan iterasi. Fungsi tanpa return nilai kita sebut sebagai prosedur, dan identik dengan paradigma prosedural. Jadi fungsi di pemrograman fungsional harus me return sesuatu ya gaes... \n",
        "\n",
        "Berikut cara lain agar fungsi  `cetak_bmi()` yang prosedural bisa menjadi fungsional dengan menambahkan inner function dan return didalamnya. Cekidot"
      ],
      "metadata": {
        "id": "iix62Pj-tKDc"
      }
    },
    {
      "cell_type": "code",
      "source": [
        "# fungsi cetak dengan inner function\n",
        "def cetak_bmi():\n",
        "  def cetak(listBMI):\n",
        "   for i in range(len(listBMI)):\n",
        "    print(\"bmi subject{} = {}\".format(i+1, listBMI[i]))\n",
        "  return cetak #dengan mereturn fungsi inner, fungsi ini menjadi HoF\n",
        "\n",
        "\n",
        "print(\"\\nMemanggil fungsi HoF:\")\n",
        "hofCetakBmi = cetak_bmi()\n",
        "hofCetakBmi(list_bmi)\n",
        "\n",
        "print(\"\\nMemanggil fungsi HoF dengan teknik currying:\")\n",
        "cetak_bmi()(list_bmi)"
      ],
      "metadata": {
        "colab": {
          "base_uri": "https://localhost:8080/"
        },
        "id": "5CAgj8ju0gAi",
        "outputId": "96fda213-c6c3-441d-c56b-3e618304dc6f"
      },
      "execution_count": null,
      "outputs": [
        {
          "output_type": "stream",
          "name": "stdout",
          "text": [
            "\n",
            "Memanggil fungsi HoF:\n",
            "bmi subject1 = 30\n",
            "bmi subject2 = 29\n",
            "bmi subject3 = 29\n",
            "bmi subject4 = 24\n",
            "bmi subject5 = 28\n",
            "\n",
            "Memanggil fungsi HoF dengan teknik currying:\n",
            "bmi subject1 = 30\n",
            "bmi subject2 = 29\n",
            "bmi subject3 = 29\n",
            "bmi subject4 = 24\n",
            "bmi subject5 = 28\n"
          ]
        }
      ]
    },
    {
      "cell_type": "markdown",
      "source": [
        "Nah, seperti itulah pemrograman fungsional. Semoga kalian semakin paham ya... \n",
        "Mari kita review lagi tentang apa itu paradigma fungsional:\n",
        "\n",
        "Paradigma fungsional adalah prinsip yang menjadi landasan pemrograman yang berbasiskan pada fungsi Matematika. Jadi setiap kode kita akan dijalankan layaknya ekspresi matematika, baik itu fungsi, variabel dan semuanya di anggap sebagi ekspresi yang selalu memberikan nilai/hasil.\n"
      ],
      "metadata": {
        "id": "yR8JOzGi0JOT"
      }
    },
    {
      "cell_type": "markdown",
      "metadata": {
        "id": "ZJujypGzbplt"
      },
      "source": [
        "# KEGIATAN PERCOBAAN"
      ]
    },
    {
      "cell_type": "markdown",
      "metadata": {
        "id": "Ly_qM5pWuKzs"
      },
      "source": [
        "## Percobaan 1 (Mobile Legends Simple Game)"
      ]
    },
    {
      "cell_type": "markdown",
      "source": [
        "Dengan diberikan dictionary allheroes, magic, attack, dan spell berikut ini,"
      ],
      "metadata": {
        "id": "aj-Url107_oZ"
      }
    },
    {
      "cell_type": "code",
      "source": [
        "allheroes = [{\"Hero\" : \"Kagura\", \"Role\" : \"Mage\", \"DMG\" : 350, \"Gold\" : 1000},\n",
        "             {\"Hero\" : \"Yve\", \"Role\" : \"Mage\", \"DMG\" : 250, \"Gold\" : 1000},\n",
        "             {\"Hero\" : \"Lancelot\", \"Role\" : \"Assassin\", \"DMG\" : 200, \"Gold\" : 1000},\n",
        "             {\"Hero\" : \"Hayabusa\", \"Role\" : \"Assassin\", \"DMG\" : 300, \"Gold\" : 1000},\n",
        "             {\"Hero\" : \"Natalia\", \"Role\" : \"Assassin\", \"DMG\" : 150, \"Gold\" : 1000},\n",
        "             {\"Hero\" : \"Cecilion\", \"Role\" : \"Mage\", \"DMG\" : 200, \"Gold\" : 1000}]\n",
        "\n",
        "magic = [{\"Name\" : \"Necklace of Durance\", \"DMG\" : 50, \"Price\" : 250},\n",
        "         {\"Name\" : \"Lightning Truncheon\", \"DMG\" : 100, \"Price\" : 300},\n",
        "         {\"Name\" : \"Blood Wings\", \"DMG\" : 300, \"Price\" : 500}]\n",
        "\n",
        "attack = [{\"Name\" : \"War Axe\", \"DMG\" : 100, \"Price\" : 250},\n",
        "         {\"Name\" : \"Endless Battle\", \"DMG\" : 300, \"Price\" : 400},\n",
        "         {\"Name\" : \"Blade of Despair\", \"DMG\" : 400, \"Price\" : 700}]\n",
        "\n",
        "spell = [{\"Name\" : \"Execute\", \"DMG\": 300},\n",
        "         {\"Name\" : \"Flameshot\", \"DMG\": 200}]"
      ],
      "metadata": {
        "id": "Z7Lba8gz8AnX"
      },
      "execution_count": null,
      "outputs": []
    },
    {
      "cell_type": "markdown",
      "metadata": {
        "id": "WaIK1bBCXC8f"
      },
      "source": [
        "\n",
        "Buatlah simple gamification dengan ketentuan sebagai berikut:\n",
        "\n",
        "1. Ketika game dijalankan maka user akan memilih 1 hero yang akan dia mainkan. \n",
        "2. Selanjutnya user akan memilih spell yang akan dia gunakan.\n",
        "3. Setelah user menentukan hero dan spellnya, maka user dipersilahkan memilih action sebegai berikut:\n",
        "\n",
        ">-     Check Hero, check hero digunakan untuk melihat hero dan spell yang kita pilih.\n",
        "  >-   Buy Item, buy item digunakan untuk membeli item yang tersedia dalam dictionary magic atau attack. Item magic HANYA bisa dibeli bagi hero yang mempunyai role sebagai Mage, sedangkan item Attack HANYA bisa dibeli bagi hero yang mempunyai role sebagai Assassin. Item disini fungsinya untuk menambahkan demage dari hero.\n",
        "    >- Fight Lord, fight lord digunakan untuk melawan lord. HP dari lord adalah 1000. User bisa menggunakan DMG hero ATAU DMG spell untuk melawan lord hingga HP lord = 0\n",
        "    >- Exit, exit digunakan untuk keluar dari game.\n",
        "\n",
        "Hal-hal yang perlu diperhatikan dalam game:    \n",
        "1. Pada function buy item, pastikan jika gold hero < 250, maka user tidak dapat membeli item lagi.\n",
        "2. HP lord tidak boleh di bawah 0.\n",
        "\n"
      ]
    },
    {
      "cell_type": "markdown",
      "source": [
        "Berikut merupakan kode dari ketentuan di atas. "
      ],
      "metadata": {
        "id": "OKKhRx-60Pvn"
      }
    },
    {
      "cell_type": "code",
      "source": [
        "def chooseHero():\n",
        "  print(\"Select 1 Hero you want to play: \")\n",
        "  selectedhero = {}\n",
        "  for i in range(len(allheroes)):\n",
        "    print(\"Id : {}\".format(i))\n",
        "    print(\"Detail : {}\".format(allheroes[i]))\n",
        "  inputs = input(\"silahkan masukkan pilihan Id: \")\n",
        "  try:\n",
        "    selectedhero.update(allheroes[int(inputs)])\n",
        "    return selectedhero\n",
        "  except:\n",
        "    return \"Wrong Input!\"\n",
        "\n",
        "def chooseSpell(hero):\n",
        "  selectedhero = hero\n",
        "  print(\"\\n{} - DMG {}\\n\".format(selectedhero[\"Hero\"],selectedhero[\"DMG\"]))\n",
        "  for i in range(len(spell)):\n",
        "      print(\"Id: {} : {} - DMG {}\".format(i,spell[i][\"Name\"], spell[i][\"DMG\"]))\n",
        "  inputs = input(\"Pilih Id spell yang akan dipakai? \")\n",
        "  selectedhero[\"Spell\"] = spell[int(inputs)]\n",
        "  print(\"\\n{} - DMG {} - Spell {}\\n\".\n",
        "        format(selectedhero[\"Hero\"],selectedhero[\"DMG\"],selectedhero[\"Spell\"]))\n",
        "  return selectedhero\n",
        "\n",
        "def buyItem(hero):\n",
        "  selectedhero = hero\n",
        "  print(\"\\n{} - DMG {} - Gold {}\\n\".\n",
        "        format(selectedhero[\"Hero\"],selectedhero[\"DMG\"],selectedhero[\"Gold\"]))\n",
        "  if selectedhero[\"Role\"] == \"Mage\":\n",
        "    for i in range(len(magic)):\n",
        "      print(\"Id: {} : {} - DMG {} - Price {}\".\n",
        "            format(i, magic[i][\"Name\"], magic[i][\"DMG\"], magic[i][\"Price\"]))\n",
        "    inputs = input(\"silahkan masukkan pilihan Id: \")\n",
        "    try:\n",
        "      if selectedhero[\"Gold\"] < magic[int(inputs)][\"Price\"]:\n",
        "        print(\"Gold not enough\")\n",
        "        return selectedhero\n",
        "      else:\n",
        "        selectedhero[\"DMG\"] += magic[int(inputs)][\"DMG\"]\n",
        "        selectedhero[\"Gold\"] -= magic[int(inputs)][\"Price\"]\n",
        "        print(\"\\nBUYING SUCCESS\")\n",
        "        print(\"\\n{} - DMG {} - Gold {}\\n\".\n",
        "              format(selectedhero[\"Hero\"],selectedhero[\"DMG\"],selectedhero[\"Gold\"]))\n",
        "    except:\n",
        "      return \"Wrong Input!\"\n",
        "  elif selectedhero[\"Role\"] == \"Assassin\":\n",
        "    for i in range(len(attack)):\n",
        "      print(\"Id: {} : {} - DMG {} - Price {}\".\n",
        "            format(i, attack[i][\"Name\"], attack[i][\"DMG\"], attack[i][\"Price\"]))\n",
        "    inputs = input(\"silahkan masukkan pilihan Id: \")\n",
        "    try:\n",
        "      if selectedhero[\"Gold\"] < attack[int(inputs)][\"Price\"]:\n",
        "        print(\"Gold not enough\")\n",
        "        return selectedhero\n",
        "      else:\n",
        "        selectedhero[\"DMG\"] += attack[int(inputs)][\"DMG\"]\n",
        "        selectedhero[\"Gold\"] -= attack[int(inputs)][\"Price\"]\n",
        "        print(\"\\nBUYING SUCCESS\")\n",
        "        print(\"\\n{} - DMG {} - Gold {}\".\n",
        "              format(selectedhero[\"Hero\"],selectedhero[\"DMG\"],selectedhero[\"Gold\"]))\n",
        "    except:\n",
        "      return \"Wrong Input!\"\n",
        "  if selectedhero[\"Gold\"] < 250:\n",
        "    return selectedhero\n",
        "  else:\n",
        "    inputt = input(\"Ingin beli lagi? (y/n)\")\n",
        "    if inputt == \"y\" or inputt == \"Y\":\n",
        "      buyItem(selectedhero)\n",
        "      return selectedhero\n",
        "    else:\n",
        "      return selectedhero\n",
        "\n",
        "def fightLord(hero):\n",
        "  lord = 1000\n",
        "  selectedhero = hero\n",
        "  spell = selectedhero[\"Spell\"]\n",
        "  print(\"Fight Begin\\n\")\n",
        "  print(\"Lord - HP: {}\\n\".format(lord))\n",
        "  while lord > 0:\n",
        "    print(\"0 || {} - DMG {}\".format(selectedhero[\"Hero\"], selectedhero[\"DMG\"]))\n",
        "    print(\"1 || {} - DMG {}\".format(spell[\"Name\"], spell[\"DMG\"]))\n",
        "    fight = input(\"Select 0 to fight with hero DMG or 1 to fight with Spell DMG: \")\n",
        "    if fight == \"0\":\n",
        "      lord -= selectedhero[\"DMG\"]\n",
        "    elif fight == \"1\":\n",
        "      lord -= spell[\"DMG\"]\n",
        "    else:\n",
        "      print(\"Wrong Input!\")\n",
        "    if lord > 0:\n",
        "      print(\"\\nLord - HP: {}\\n\".format(lord))\n",
        "    else:\n",
        "      lord = 0\n",
        "      print(\"\\nLord - HP: {}\\n\".format(lord))\n",
        "      print(\"Challange Success\\n\")\n",
        "\n",
        "def start():\n",
        "  print(\"Welcome to mini Mobile Legends Game\\n\\n\")\n",
        "  hero = chooseHero()\n",
        "  selectedherospell = chooseSpell(hero)\n",
        "  flag = True\n",
        "  while flag:\n",
        "    print(\"Select the activity you want to do:\")\n",
        "    print(\"1. Check Hero\")\n",
        "    print(\"2. Buy Item\")\n",
        "    print(\"3. Fight Lord\")\n",
        "    print(\"4. Exit\")\n",
        "    inputs = input(\"Choose the number :) \")\n",
        "    if inputs == \"1\":\n",
        "      print(\"{} - {} - DMG {} - Spell {}\".\n",
        "            format(selectedherospell[\"Hero\"], selectedherospell[\"Role\"], \n",
        "                  selectedherospell[\"DMG\"], selectedherospell[\"Spell\"]))\n",
        "    elif inputs == \"2\":\n",
        "      selectedherospell = buyItem(selectedherospell)\n",
        "    elif inputs == \"3\":\n",
        "      fightLord(selectedherospell)\n",
        "    elif inputs == \"4\":\n",
        "      print(\"Thank you for playing this game\")\n",
        "      flag = False\n",
        "    else:\n",
        "      return \"Wrong Input\"  "
      ],
      "metadata": {
        "id": "ukxgdvDvz8UB"
      },
      "execution_count": null,
      "outputs": []
    },
    {
      "cell_type": "code",
      "source": [
        "#jalankan program\n",
        "start()  "
      ],
      "metadata": {
        "id": "QTAyQ0nfA-Nu"
      },
      "execution_count": null,
      "outputs": []
    },
    {
      "cell_type": "markdown",
      "source": [
        "Setelah di-run berjalan dengan normal ya... Namun coba perhatikan source codenya. Meski game berjalan dengan baik, tapi source code diatas tidak menggunakan paradigma fungsional. Mari kita buktikan:"
      ],
      "metadata": {
        "id": "1O3O2GVx0hkx"
      }
    },
    {
      "cell_type": "code",
      "source": [
        "#hapus dan ubah salah satu nama variabel yang ada \n",
        "del allheroes\n",
        "myheroes = [{\"Hero\" : \"Kagura\", \"Role\" : \"Mage\", \"DMG\" : 350, \"Gold\" : 1000},\n",
        "             {\"Hero\" : \"Yve\", \"Role\" : \"Mage\", \"DMG\" : 250, \"Gold\" : 1000},\n",
        "            \n",
        "             {\"Hero\" : \"Lancelot\", \"Role\" : \"Assassin\", \"DMG\" : 200, \"Gold\" : 1000},\n",
        "             {\"Hero\" : \"Hayabusa\", \"Role\" : \"Assassin\", \"DMG\" : 300, \"Gold\" : 1000},\n",
        "             {\"Hero\" : \"Natalia\", \"Role\" : \"Assassin\", \"DMG\" : 150, \"Gold\" : 1000},\n",
        "             {\"Hero\" : \"Cecilion\", \"Role\" : \"Mage\", \"DMG\" : 200, \"Gold\" : 1000}]\n",
        "\n",
        "#dan jalankan game\n",
        "start()"
      ],
      "metadata": {
        "id": "iFscKLpj6ZF4"
      },
      "execution_count": null,
      "outputs": []
    },
    {
      "cell_type": "markdown",
      "source": [
        "Game tidak lagi bisa berjalan hanya karena kita ganti nama variabelnya. Hal ini membuktikan bahwa fungsi yang ada sangat bergantung dengan variabel diluar fungsi. Ketergantungan ini sangat berlawanan dengan prinsip fungsional, dimana fungsi seharusnya tidak bergantung pada data diluar fungsi (prinsip pure function). Bagaimana cara memperbaikinya biar jadi fungsi murni(*Fungsi yang hasil keluaranya hanya dipengaruhi oleh parameter yang diberikan*)? Berarti kita harus memberikan parameter yang dibutuhkan oleh fungsi. Seperti ini:\n",
        "\n",
        "Coba bandingkan dengan fungsi `chooseHero()` sebelumnya!"
      ],
      "metadata": {
        "id": "aoTj_IJn6Xip"
      }
    },
    {
      "cell_type": "code",
      "source": [
        "1#berikan parameter yang dibutuhkan oleh fungsi\n",
        "def chooseHero(allheroes):\n",
        "  print(\"Select 1 Hero you want to play: \")\n",
        "  selectedhero = {}\n",
        "  for i in range(len(allheroes)):\n",
        "    print(\"Id : {}\".format(i))\n",
        "    print(\"Detail : {}\".format(allheroes[i]))\n",
        "  inputs = input(\"silahkan masukkan pilihan Id: \")\n",
        "  try:\n",
        "    selectedhero.update(allheroes[int(inputs)])\n",
        "    return selectedhero\n",
        "  except:\n",
        "    return \"Wrong Input!\"\n",
        "\n",
        "#jangan lupa modifikasi isi fungsi start biar sesuai\n",
        "def start():\n",
        "  print(\"Welcome to mini Mobile Legends Game\\n\\n\")\n",
        "  hero = chooseHero(myheroes)\n",
        "  selectedherospell = chooseSpell(hero)\n",
        "  #menu2 sengaja dihilangkan sementara\n",
        "\n",
        "#mari jalankan gamenya\n",
        "start()"
      ],
      "metadata": {
        "colab": {
          "base_uri": "https://localhost:8080/"
        },
        "id": "_Nvcgu7t-qGX",
        "outputId": "65bafd0b-60ef-49c1-afe8-c4b60544db97"
      },
      "execution_count": null,
      "outputs": [
        {
          "output_type": "stream",
          "name": "stdout",
          "text": [
            "Welcome to mini Mobile Legends Game\n",
            "\n",
            "\n",
            "Select 1 Hero you want to play: \n",
            "Id : 0\n",
            "Detail : {'Hero': 'Kagura', 'Role': 'Mage', 'DMG': 350, 'Gold': 1000}\n",
            "Id : 1\n",
            "Detail : {'Hero': 'Yve', 'Role': 'Mage', 'DMG': 250, 'Gold': 1000}\n",
            "Id : 2\n",
            "Detail : {'Hero': 'Lancelot', 'Role': 'Assassin', 'DMG': 200, 'Gold': 1000}\n",
            "Id : 3\n",
            "Detail : {'Hero': 'Hayabusa', 'Role': 'Assassin', 'DMG': 300, 'Gold': 1000}\n",
            "Id : 4\n",
            "Detail : {'Hero': 'Natalia', 'Role': 'Assassin', 'DMG': 150, 'Gold': 1000}\n",
            "Id : 5\n",
            "Detail : {'Hero': 'Cecilion', 'Role': 'Mage', 'DMG': 200, 'Gold': 1000}\n",
            "silahkan masukkan pilihan Id: 3\n",
            "\n",
            "Hayabusa - DMG 300\n",
            "\n",
            "Id: 0 : Execute - DMG 300\n",
            "Id: 1 : Flameshot - DMG 200\n",
            "Pilih Id spell yang akan dipakai? 1\n",
            "\n",
            "Hayabusa - DMG 300 - Spell {'Name': 'Flameshot', 'DMG': 200}\n",
            "\n"
          ]
        }
      ]
    },
    {
      "cell_type": "markdown",
      "source": [
        "Voila, game kembali bisa berjalan. Tapi itu baru salah satu contoh saja ya... \n",
        "\n",
        "Dan tugas praktikum kali ini adalahh, jeng jengg..."
      ],
      "metadata": {
        "id": "vcdnH5Gf9bmv"
      }
    },
    {
      "cell_type": "markdown",
      "metadata": {
        "id": "ikyB_3GH6FUO"
      },
      "source": [
        "# PRAKTIKUM MODUL"
      ]
    },
    {
      "cell_type": "markdown",
      "source": [
        "Modifikasi kode program Mobile Legends Simple Game agar sesuai kaidah pemrograman fungsional dengan ketentuan :     \n",
        "1. Nama variabel global ubah menjadi: heroes, sihir, serangan, dan mantra. Dan untuk nama variabel lokal yang digunakan di dalam fungsi tidak boleh diganti. \n",
        "2. Nama fungsi ubah menjadi: pilihHero, pilihMantra, beli_item, bertarung, dan main\n",
        "3. Tambahkan pilihan mulai main atau batal di awal game dijalankan\n",
        "4. Manfaatkan materi yang sudah dipelajari pada modul modul sebelumnya semaksimal mungkin agar sesuai kaidah pemrograman fungsional (pure function, inner function, high order function, rekursif, lambda, eliminasi redudancy kode, function as expression, dan sebagainya)\n",
        "5. Lengkapi kode dengan exception handling untuk mengatasi setiap error yang mungkin terjadi selama permainan berlangsung\n",
        "6. Jelaskan pada asisten bagian mana saja yang diubah dan jelaskan alasannya\n",
        "\n",
        "POINT TAMBAHAN :    \n",
        "1. Daftar menu disimpan dan dicetak dengan memanfaatkan data sequence agar lebih dinamis untuk menghindari print manual."
      ],
      "metadata": {
        "id": "zIjl34Ln_FUX"
      }
    },
    {
      "cell_type": "markdown",
      "metadata": {
        "id": "lvUeB58drOQR"
      },
      "source": [
        "INDIKATOR PENILAIAN\n",
        "\n",
        "1. Program berjalan sesuai dengan instruksi modul (25)\n",
        "\n",
        "2. Terdapat modifikasi untuk mengeliminasi redudancy kode dengan memanfaatkan inner function dan closure pada fungsi `beli_item()` (25)\n",
        "3. Mengeliminasi penggunaan kode for yang berulang pada beberapa fungsi dengan membuat fungsi baru yang fungsional (20)\n",
        "4. Menjelaskan dengan baik dan benar pada asisten, khususnya tentang materi apa saja yang telah diimplementasikan untuk mencapai kaidah fungsional (30)\n",
        "\n",
        "Opsional\n",
        "1. Point tambahan apabila berhasil mengubah pilihan menu menggunakan data sequence (10)"
      ]
    }
  ]
}